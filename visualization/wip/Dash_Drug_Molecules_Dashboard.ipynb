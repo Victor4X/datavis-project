{
  "cells": [
    {
      "cell_type": "code",
      "execution_count": 11,
      "metadata": {
        "colab": {
          "base_uri": "https://localhost:8080/"
        },
        "id": "ZdiI7rm7X6Tl",
        "outputId": "3393bef7-40e9-4800-8318-253ae29b5ba2"
      },
      "outputs": [
        {
          "name": "stdout",
          "output_type": "stream",
          "text": [
            "Defaulting to user installation because normal site-packages is not writeable\n",
            "Requirement already satisfied: dash in /home/victor/.local/lib/python3.10/site-packages (2.6.2)\n",
            "Requirement already satisfied: jupyter-dash in /home/victor/.local/lib/python3.10/site-packages (0.4.2)\n",
            "Requirement already satisfied: dash-html-components==2.0.0 in /home/victor/.local/lib/python3.10/site-packages (from dash) (2.0.0)\n",
            "Requirement already satisfied: flask-compress in /home/victor/.local/lib/python3.10/site-packages (from dash) (1.13)\n",
            "Requirement already satisfied: dash-table==5.0.0 in /home/victor/.local/lib/python3.10/site-packages (from dash) (5.0.0)\n",
            "Requirement already satisfied: Flask>=1.0.4 in /home/victor/.local/lib/python3.10/site-packages (from dash) (1.1.4)\n",
            "Requirement already satisfied: dash-core-components==2.0.0 in /home/victor/.local/lib/python3.10/site-packages (from dash) (2.0.0)\n",
            "Requirement already satisfied: plotly>=5.0.0 in /home/victor/.local/lib/python3.10/site-packages (from dash) (5.10.0)\n",
            "Requirement already satisfied: nest-asyncio in /home/victor/.local/lib/python3.10/site-packages (from jupyter-dash) (1.5.5)\n",
            "Requirement already satisfied: ipykernel in /home/victor/.local/lib/python3.10/site-packages (from jupyter-dash) (6.15.3)\n",
            "Requirement already satisfied: requests in /usr/lib/python3.10/site-packages (from jupyter-dash) (2.28.1)\n",
            "Requirement already satisfied: ipython in /home/victor/.local/lib/python3.10/site-packages (from jupyter-dash) (8.5.0)\n",
            "Requirement already satisfied: retrying in /usr/lib/python3.10/site-packages (from jupyter-dash) (1.3.3)\n",
            "Requirement already satisfied: ansi2html in /home/victor/.local/lib/python3.10/site-packages (from jupyter-dash) (1.8.0)\n",
            "Requirement already satisfied: Jinja2<3.0,>=2.10.1 in /home/victor/.local/lib/python3.10/site-packages (from Flask>=1.0.4->dash) (2.11.3)\n",
            "Requirement already satisfied: Werkzeug<2.0,>=0.15 in /home/victor/.local/lib/python3.10/site-packages (from Flask>=1.0.4->dash) (1.0.1)\n",
            "Requirement already satisfied: click<8.0,>=5.1 in /home/victor/.local/lib/python3.10/site-packages (from Flask>=1.0.4->dash) (7.1.2)\n",
            "Requirement already satisfied: itsdangerous<2.0,>=0.24 in /home/victor/.local/lib/python3.10/site-packages (from Flask>=1.0.4->dash) (1.1.0)\n",
            "Requirement already satisfied: tenacity>=6.2.0 in /usr/lib/python3.10/site-packages (from plotly>=5.0.0->dash) (8.1.0)\n",
            "Requirement already satisfied: brotli in /home/victor/.local/lib/python3.10/site-packages (from flask-compress->dash) (1.0.9)\n",
            "Requirement already satisfied: matplotlib-inline>=0.1 in /home/victor/.local/lib/python3.10/site-packages (from ipykernel->jupyter-dash) (0.1.6)\n",
            "Requirement already satisfied: debugpy>=1.0 in /home/victor/.local/lib/python3.10/site-packages (from ipykernel->jupyter-dash) (1.6.3)\n",
            "Requirement already satisfied: tornado>=6.1 in /home/victor/.local/lib/python3.10/site-packages (from ipykernel->jupyter-dash) (6.2)\n",
            "Requirement already satisfied: traitlets>=5.1.0 in /home/victor/.local/lib/python3.10/site-packages (from ipykernel->jupyter-dash) (5.4.0)\n",
            "Requirement already satisfied: jupyter-client>=6.1.12 in /home/victor/.local/lib/python3.10/site-packages (from ipykernel->jupyter-dash) (7.3.5)\n",
            "Requirement already satisfied: packaging in /usr/lib/python3.10/site-packages (from ipykernel->jupyter-dash) (21.3)\n",
            "Requirement already satisfied: psutil in /usr/lib/python3.10/site-packages (from ipykernel->jupyter-dash) (5.9.2)\n",
            "Requirement already satisfied: pyzmq>=17 in /home/victor/.local/lib/python3.10/site-packages (from ipykernel->jupyter-dash) (24.0.1)\n",
            "Requirement already satisfied: decorator in /home/victor/.local/lib/python3.10/site-packages (from ipython->jupyter-dash) (5.1.1)\n",
            "Requirement already satisfied: jedi>=0.16 in /home/victor/.local/lib/python3.10/site-packages (from ipython->jupyter-dash) (0.18.1)\n",
            "Requirement already satisfied: stack-data in /home/victor/.local/lib/python3.10/site-packages (from ipython->jupyter-dash) (0.5.0)\n",
            "Requirement already satisfied: backcall in /home/victor/.local/lib/python3.10/site-packages (from ipython->jupyter-dash) (0.2.0)\n",
            "Requirement already satisfied: prompt-toolkit<3.1.0,>3.0.1 in /home/victor/.local/lib/python3.10/site-packages (from ipython->jupyter-dash) (3.0.31)\n",
            "Requirement already satisfied: pexpect>4.3 in /home/victor/.local/lib/python3.10/site-packages (from ipython->jupyter-dash) (4.8.0)\n",
            "Requirement already satisfied: pygments>=2.4.0 in /usr/lib/python3.10/site-packages (from ipython->jupyter-dash) (2.13.0)\n",
            "Requirement already satisfied: pickleshare in /home/victor/.local/lib/python3.10/site-packages (from ipython->jupyter-dash) (0.7.5)\n",
            "Requirement already satisfied: idna<4,>=2.5 in /usr/lib/python3.10/site-packages (from requests->jupyter-dash) (3.4)\n",
            "Requirement already satisfied: urllib3<1.27,>=1.21.1 in /usr/lib/python3.10/site-packages (from requests->jupyter-dash) (1.26.12)\n",
            "Requirement already satisfied: six>=1.7.0 in /usr/lib/python3.10/site-packages (from retrying->jupyter-dash) (1.16.0)\n",
            "Requirement already satisfied: parso<0.9.0,>=0.8.0 in /home/victor/.local/lib/python3.10/site-packages (from jedi>=0.16->ipython->jupyter-dash) (0.8.3)\n",
            "Requirement already satisfied: MarkupSafe>=0.23 in /usr/lib/python3.10/site-packages (from Jinja2<3.0,>=2.10.1->Flask>=1.0.4->dash) (2.1.1)\n",
            "Requirement already satisfied: entrypoints in /home/victor/.local/lib/python3.10/site-packages (from jupyter-client>=6.1.12->ipykernel->jupyter-dash) (0.4)\n",
            "Requirement already satisfied: jupyter-core>=4.9.2 in /home/victor/.local/lib/python3.10/site-packages (from jupyter-client>=6.1.12->ipykernel->jupyter-dash) (4.11.1)\n",
            "Requirement already satisfied: python-dateutil>=2.8.2 in /usr/lib/python3.10/site-packages (from jupyter-client>=6.1.12->ipykernel->jupyter-dash) (2.8.2)\n",
            "Requirement already satisfied: ptyprocess>=0.5 in /home/victor/.local/lib/python3.10/site-packages (from pexpect>4.3->ipython->jupyter-dash) (0.7.0)\n",
            "Requirement already satisfied: wcwidth in /home/victor/.local/lib/python3.10/site-packages (from prompt-toolkit<3.1.0,>3.0.1->ipython->jupyter-dash) (0.2.5)\n",
            "Requirement already satisfied: pyparsing!=3.0.5,>=2.0.2 in /home/victor/.local/lib/python3.10/site-packages (from packaging->ipykernel->jupyter-dash) (2.4.7)\n",
            "Requirement already satisfied: asttokens in /home/victor/.local/lib/python3.10/site-packages (from stack-data->ipython->jupyter-dash) (2.0.8)\n",
            "Requirement already satisfied: pure-eval in /home/victor/.local/lib/python3.10/site-packages (from stack-data->ipython->jupyter-dash) (0.2.2)\n",
            "Requirement already satisfied: executing in /home/victor/.local/lib/python3.10/site-packages (from stack-data->ipython->jupyter-dash) (1.0.0)\n"
          ]
        }
      ],
      "source": [
        "!pip install -U dash jupyter-dash"
      ]
    },
    {
      "cell_type": "code",
      "execution_count": 12,
      "metadata": {
        "id": "9vwghilrXnsg"
      },
      "outputs": [],
      "source": [
        "!wget -o 'small_molecule_drugbanl.csv' 'https://raw.githubusercontent.com/plotly/dash-sample-apps/main/apps/dash-drug-discovery/data/small_molecule_drugbank.csv'"
      ]
    },
    {
      "cell_type": "code",
      "execution_count": 13,
      "metadata": {
        "colab": {
          "base_uri": "https://localhost:8080/",
          "height": 671
        },
        "id": "o9-G8EYeXd4d",
        "outputId": "cac55574-32bc-4abe-ca86-60654cc92c28"
      },
      "outputs": [
        {
          "data": {
            "text/html": [
              "\n",
              "        <iframe\n",
              "            width=\"100%\"\n",
              "            height=\"650\"\n",
              "            src=\"http://127.0.0.1:8050/\"\n",
              "            frameborder=\"0\"\n",
              "            allowfullscreen\n",
              "            \n",
              "        ></iframe>\n",
              "        "
            ],
            "text/plain": [
              "<IPython.lib.display.IFrame at 0x7f935866fe20>"
            ]
          },
          "metadata": {},
          "output_type": "display_data"
        }
      ],
      "source": [
        "from jupyter_dash import JupyterDash\n",
        "from dash import dcc, html, Input, Output, no_update\n",
        "import plotly.graph_objects as go\n",
        "import pandas as pd\n",
        "\n",
        "# Small molcule drugbank dataset\n",
        "data_path = 'small_molecule_drugbank.csv'\n",
        "\n",
        "df = pd.read_csv(data_path, header=0, index_col=0)\n",
        "\n",
        "fig = go.Figure(data=[\n",
        "    go.Scatter(\n",
        "        x=df[\"LOGP\"],\n",
        "        y=df[\"PKA\"],\n",
        "        mode=\"markers\",\n",
        "        marker=dict(\n",
        "            colorscale='viridis',\n",
        "            color=df[\"MW\"],\n",
        "            size=df[\"MW\"],\n",
        "            colorbar={\"title\": \"Molecular<br>Weight\"},\n",
        "            line={\"color\": \"#444\"},\n",
        "            reversescale=True,\n",
        "            sizeref=45,\n",
        "            sizemode=\"diameter\",\n",
        "            opacity=0.8,\n",
        "        )\n",
        "    )\n",
        "])\n",
        "\n",
        "# turn off native plotly.js hover effects - make sure to use\n",
        "# hoverinfo=\"none\" rather than \"skip\" which also halts events.\n",
        "fig.update_traces(hoverinfo=\"none\", hovertemplate=None)\n",
        "\n",
        "fig.update_layout(\n",
        "    xaxis=dict(title='Log P'),\n",
        "    yaxis=dict(title='pkA'),\n",
        "    plot_bgcolor='rgba(255,255,255,0.1)'\n",
        ")\n",
        "\n",
        "app = JupyterDash(__name__)\n",
        "\n",
        "app.layout = html.Div([\n",
        "    dcc.Graph(id=\"graph\", figure=fig, clear_on_unhover=True),\n",
        "    dcc.Tooltip(id=\"graph-tooltip\"),\n",
        "])\n",
        "\n",
        "\n",
        "@app.callback(\n",
        "    Output(\"graph-tooltip\", \"show\"),\n",
        "    Output(\"graph-tooltip\", \"bbox\"),\n",
        "    Output(\"graph-tooltip\", \"children\"),\n",
        "    Input(\"graph\", \"hoverData\"),\n",
        ")\n",
        "def display_hover(hoverData):\n",
        "    if hoverData is None:\n",
        "        return False, no_update, no_update\n",
        "\n",
        "    # demo only shows the first point, but other points may also be available\n",
        "    pt = hoverData[\"points\"][0]\n",
        "    bbox = pt[\"bbox\"]\n",
        "    num = pt[\"pointNumber\"]\n",
        "\n",
        "    df_row = df.iloc[num]\n",
        "    img_src = df_row['IMG_URL']\n",
        "    name = df_row['NAME']\n",
        "    form = df_row['FORM']\n",
        "    desc = df_row['DESC']\n",
        "    if len(desc) > 300: desc = desc[:100] + '...'\n",
        "\n",
        "    children = [\n",
        "        html.Div(children=[\n",
        "            html.Img(src=img_src, style={\"width\": \"100%\"}),\n",
        "            html.H2(f\"{name}\", style={\"color\": \"darkblue\"}),\n",
        "            html.P(f\"{form}\"),\n",
        "            html.P(f\"{desc}\"),\n",
        "        ],\n",
        "        style={'width': '200px', 'white-space': 'normal'})\n",
        "    ]\n",
        "\n",
        "    return True, bbox, children\n",
        "\n",
        "\n",
        "if __name__ == \"__main__\":\n",
        "    app.run_server(debug=True, mode='inline')\n"
      ]
    }
  ],
  "metadata": {
    "colab": {
      "collapsed_sections": [],
      "provenance": []
    },
    "kernelspec": {
      "display_name": "Python 3.10.7 64-bit",
      "language": "python",
      "name": "python3"
    },
    "language_info": {
      "codemirror_mode": {
        "name": "ipython",
        "version": 3
      },
      "file_extension": ".py",
      "mimetype": "text/x-python",
      "name": "python",
      "nbconvert_exporter": "python",
      "pygments_lexer": "ipython3",
      "version": "3.10.7"
    },
    "vscode": {
      "interpreter": {
        "hash": "e7370f93d1d0cde622a1f8e1c04877d8463912d04d973331ad4851f04de6915a"
      }
    }
  },
  "nbformat": 4,
  "nbformat_minor": 0
}

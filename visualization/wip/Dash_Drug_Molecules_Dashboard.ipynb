{
  "nbformat": 4,
  "nbformat_minor": 0,
  "metadata": {
    "colab": {
      "provenance": [],
      "collapsed_sections": []
    },
    "kernelspec": {
      "name": "python3",
      "display_name": "Python 3"
    },
    "language_info": {
      "name": "python"
    }
  },
  "cells": [
    {
      "cell_type": "code",
      "metadata": {
        "colab": {
          "base_uri": "https://localhost:8080/"
        },
        "id": "ZdiI7rm7X6Tl",
        "outputId": "3393bef7-40e9-4800-8318-253ae29b5ba2"
      },
      "source": [
        "!pip install --q dash==2.0.0 jupyter-dash==0.4.0;"
      ],
      "execution_count": 2,
      "outputs": [
        {
          "output_type": "stream",
          "name": "stdout",
          "text": [
            "\u001b[K     |████████████████████████████████| 7.3 MB 5.3 MB/s \n",
            "\u001b[K     |████████████████████████████████| 357 kB 7.6 MB/s \n",
            "\u001b[K     |████████████████████████████████| 1.6 MB 45.6 MB/s \n",
            "\u001b[?25h  Building wheel for retrying (setup.py) ... \u001b[?25l\u001b[?25hdone\n"
          ]
        }
      ]
    },
    {
      "cell_type": "code",
      "metadata": {
        "id": "9vwghilrXnsg"
      },
      "source": [
        "!wget -o 'small_molecule_drugbanl.csv' 'https://raw.githubusercontent.com/plotly/dash-sample-apps/main/apps/dash-drug-discovery/data/small_molecule_drugbank.csv'"
      ],
      "execution_count": 3,
      "outputs": []
    },
    {
      "cell_type": "code",
      "metadata": {
        "colab": {
          "base_uri": "https://localhost:8080/",
          "height": 671
        },
        "id": "o9-G8EYeXd4d",
        "outputId": "cac55574-32bc-4abe-ca86-60654cc92c28"
      },
      "source": [
        "from jupyter_dash import JupyterDash\n",
        "from dash import dcc, html, Input, Output, no_update\n",
        "import plotly.graph_objects as go\n",
        "import pandas as pd\n",
        "\n",
        "# Small molcule drugbank dataset\n",
        "data_path = 'small_molecule_drugbank.csv'\n",
        "\n",
        "df = pd.read_csv(data_path, header=0, index_col=0)\n",
        "\n",
        "fig = go.Figure(data=[\n",
        "    go.Scatter(\n",
        "        x=df[\"LOGP\"],\n",
        "        y=df[\"PKA\"],\n",
        "        mode=\"markers\",\n",
        "        marker=dict(\n",
        "            colorscale='viridis',\n",
        "            color=df[\"MW\"],\n",
        "            size=df[\"MW\"],\n",
        "            colorbar={\"title\": \"Molecular<br>Weight\"},\n",
        "            line={\"color\": \"#444\"},\n",
        "            reversescale=True,\n",
        "            sizeref=45,\n",
        "            sizemode=\"diameter\",\n",
        "            opacity=0.8,\n",
        "        )\n",
        "    )\n",
        "])\n",
        "\n",
        "# turn off native plotly.js hover effects - make sure to use\n",
        "# hoverinfo=\"none\" rather than \"skip\" which also halts events.\n",
        "fig.update_traces(hoverinfo=\"none\", hovertemplate=None)\n",
        "\n",
        "fig.update_layout(\n",
        "    xaxis=dict(title='Log P'),\n",
        "    yaxis=dict(title='pkA'),\n",
        "    plot_bgcolor='rgba(255,255,255,0.1)'\n",
        ")\n",
        "\n",
        "app = JupyterDash(__name__)\n",
        "\n",
        "app.layout = html.Div([\n",
        "    dcc.Graph(id=\"graph\", figure=fig, clear_on_unhover=True),\n",
        "    dcc.Tooltip(id=\"graph-tooltip\"),\n",
        "])\n",
        "\n",
        "\n",
        "@app.callback(\n",
        "    Output(\"graph-tooltip\", \"show\"),\n",
        "    Output(\"graph-tooltip\", \"bbox\"),\n",
        "    Output(\"graph-tooltip\", \"children\"),\n",
        "    Input(\"graph\", \"hoverData\"),\n",
        ")\n",
        "def display_hover(hoverData):\n",
        "    if hoverData is None:\n",
        "        return False, no_update, no_update\n",
        "\n",
        "    # demo only shows the first point, but other points may also be available\n",
        "    pt = hoverData[\"points\"][0]\n",
        "    bbox = pt[\"bbox\"]\n",
        "    num = pt[\"pointNumber\"]\n",
        "\n",
        "    df_row = df.iloc[num]\n",
        "    img_src = df_row['IMG_URL']\n",
        "    name = df_row['NAME']\n",
        "    form = df_row['FORM']\n",
        "    desc = df_row['DESC']\n",
        "    if len(desc) > 300: desc = desc[:100] + '...'\n",
        "\n",
        "    children = [\n",
        "        html.Div(children=[\n",
        "            html.Img(src=img_src, style={\"width\": \"100%\"}),\n",
        "            html.H2(f\"{name}\", style={\"color\": \"darkblue\"}),\n",
        "            html.P(f\"{form}\"),\n",
        "            html.P(f\"{desc}\"),\n",
        "        ],\n",
        "        style={'width': '200px', 'white-space': 'normal'})\n",
        "    ]\n",
        "\n",
        "    return True, bbox, children\n",
        "\n",
        "\n",
        "if __name__ == \"__main__\":\n",
        "    app.run_server(debug=True, mode='inline')\n"
      ],
      "execution_count": 4,
      "outputs": [
        {
          "output_type": "display_data",
          "data": {
            "text/plain": [
              "<IPython.core.display.Javascript object>"
            ],
            "application/javascript": [
              "(async (port, path, width, height, cache, element) => {\n",
              "    if (!google.colab.kernel.accessAllowed && !cache) {\n",
              "      return;\n",
              "    }\n",
              "    element.appendChild(document.createTextNode(''));\n",
              "    const url = await google.colab.kernel.proxyPort(port, {cache});\n",
              "    const iframe = document.createElement('iframe');\n",
              "    iframe.src = new URL(path, url).toString();\n",
              "    iframe.height = height;\n",
              "    iframe.width = width;\n",
              "    iframe.style.border = 0;\n",
              "    element.appendChild(iframe);\n",
              "  })(8050, \"/\", \"100%\", 650, false, window.element)"
            ]
          },
          "metadata": {}
        }
      ]
    }
  ]
}
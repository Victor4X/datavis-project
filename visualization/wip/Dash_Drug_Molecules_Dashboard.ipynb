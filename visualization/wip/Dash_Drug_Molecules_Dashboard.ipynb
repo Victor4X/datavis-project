{
  "cells": [
    {
      "cell_type": "code",
      "execution_count": 1,
      "metadata": {
        "colab": {
          "base_uri": "https://localhost:8080/"
        },
        "id": "ZdiI7rm7X6Tl",
        "outputId": "3393bef7-40e9-4800-8318-253ae29b5ba2"
      },
      "outputs": [
        {
          "name": "stdout",
          "output_type": "stream",
          "text": [
            "/home/asiskarp/.local/lib/python3.8/site-packages/pkg_resources/__init__.py:122: PkgResourcesDeprecationWarning: 0.23ubuntu1 is an invalid version and will not be supported in a future release\n",
            "  warnings.warn(\n",
            "/home/asiskarp/.local/lib/python3.8/site-packages/pkg_resources/__init__.py:122: PkgResourcesDeprecationWarning: 0.1.36ubuntu1 is an invalid version and will not be supported in a future release\n",
            "  warnings.warn(\n",
            "Requirement already up-to-date: dash in /home/asiskarp/.local/lib/python3.8/site-packages (2.6.2)\n",
            "Requirement already up-to-date: jupyter-dash in /home/asiskarp/.local/lib/python3.8/site-packages (0.4.2)\n",
            "Requirement already satisfied, skipping upgrade: Flask>=1.0.4 in /home/asiskarp/.local/lib/python3.8/site-packages (from dash) (2.0.3)\n",
            "Requirement already satisfied, skipping upgrade: flask-compress in /home/asiskarp/.local/lib/python3.8/site-packages (from dash) (1.13)\n",
            "Requirement already satisfied, skipping upgrade: plotly>=5.0.0 in /home/asiskarp/.local/lib/python3.8/site-packages (from dash) (5.10.0)\n",
            "Requirement already satisfied, skipping upgrade: dash-html-components==2.0.0 in /home/asiskarp/.local/lib/python3.8/site-packages (from dash) (2.0.0)\n",
            "Requirement already satisfied, skipping upgrade: dash-core-components==2.0.0 in /home/asiskarp/.local/lib/python3.8/site-packages (from dash) (2.0.0)\n",
            "Requirement already satisfied, skipping upgrade: dash-table==5.0.0 in /home/asiskarp/.local/lib/python3.8/site-packages (from dash) (5.0.0)\n",
            "Requirement already satisfied, skipping upgrade: requests in /home/asiskarp/.local/lib/python3.8/site-packages (from jupyter-dash) (2.27.1)\n",
            "Requirement already satisfied, skipping upgrade: retrying in /home/asiskarp/.local/lib/python3.8/site-packages (from jupyter-dash) (1.3.3)\n",
            "Requirement already satisfied, skipping upgrade: ipython in /home/asiskarp/.local/lib/python3.8/site-packages (from jupyter-dash) (8.1.1)\n",
            "Requirement already satisfied, skipping upgrade: ipykernel in /home/asiskarp/.local/lib/python3.8/site-packages (from jupyter-dash) (6.9.1)\n",
            "Requirement already satisfied, skipping upgrade: ansi2html in /home/asiskarp/.local/lib/python3.8/site-packages (from jupyter-dash) (1.8.0)\n",
            "Requirement already satisfied, skipping upgrade: nest-asyncio in /home/asiskarp/.local/lib/python3.8/site-packages (from jupyter-dash) (1.5.4)\n",
            "Requirement already satisfied, skipping upgrade: Werkzeug>=2.0 in /home/asiskarp/.local/lib/python3.8/site-packages (from Flask>=1.0.4->dash) (2.0.3)\n",
            "Requirement already satisfied, skipping upgrade: Jinja2>=3.0 in /home/asiskarp/.local/lib/python3.8/site-packages (from Flask>=1.0.4->dash) (3.0.3)\n",
            "Requirement already satisfied, skipping upgrade: itsdangerous>=2.0 in /home/asiskarp/.local/lib/python3.8/site-packages (from Flask>=1.0.4->dash) (2.1.1)\n",
            "Requirement already satisfied, skipping upgrade: click>=7.1.2 in /home/asiskarp/.local/lib/python3.8/site-packages (from Flask>=1.0.4->dash) (8.0.4)\n",
            "Requirement already satisfied, skipping upgrade: brotli in /home/asiskarp/.local/lib/python3.8/site-packages (from flask-compress->dash) (1.0.9)\n",
            "Requirement already satisfied, skipping upgrade: tenacity>=6.2.0 in /home/asiskarp/.local/lib/python3.8/site-packages (from plotly>=5.0.0->dash) (8.1.0)\n",
            "Requirement already satisfied, skipping upgrade: urllib3<1.27,>=1.21.1 in /home/asiskarp/.local/lib/python3.8/site-packages (from requests->jupyter-dash) (1.26.8)\n",
            "Requirement already satisfied, skipping upgrade: certifi>=2017.4.17 in /home/asiskarp/.local/lib/python3.8/site-packages (from requests->jupyter-dash) (2021.10.8)\n",
            "Requirement already satisfied, skipping upgrade: charset-normalizer~=2.0.0; python_version >= \"3\" in /home/asiskarp/.local/lib/python3.8/site-packages (from requests->jupyter-dash) (2.0.12)\n",
            "Requirement already satisfied, skipping upgrade: idna<4,>=2.5; python_version >= \"3\" in /home/asiskarp/.local/lib/python3.8/site-packages (from requests->jupyter-dash) (3.3)\n",
            "Requirement already satisfied, skipping upgrade: six>=1.7.0 in /home/asiskarp/.local/lib/python3.8/site-packages (from retrying->jupyter-dash) (1.16.0)\n",
            "Requirement already satisfied, skipping upgrade: backcall in /home/asiskarp/.local/lib/python3.8/site-packages (from ipython->jupyter-dash) (0.2.0)\n",
            "Requirement already satisfied, skipping upgrade: decorator in /home/asiskarp/.local/lib/python3.8/site-packages (from ipython->jupyter-dash) (5.1.1)\n",
            "Requirement already satisfied, skipping upgrade: jedi>=0.16 in /home/asiskarp/.local/lib/python3.8/site-packages (from ipython->jupyter-dash) (0.18.1)\n",
            "Requirement already satisfied, skipping upgrade: matplotlib-inline in /home/asiskarp/.local/lib/python3.8/site-packages (from ipython->jupyter-dash) (0.1.3)\n",
            "Requirement already satisfied, skipping upgrade: pickleshare in /home/asiskarp/.local/lib/python3.8/site-packages (from ipython->jupyter-dash) (0.7.5)\n",
            "Requirement already satisfied, skipping upgrade: prompt-toolkit!=3.0.0,!=3.0.1,<3.1.0,>=2.0.0 in /home/asiskarp/.local/lib/python3.8/site-packages (from ipython->jupyter-dash) (3.0.28)\n",
            "Requirement already satisfied, skipping upgrade: pygments>=2.4.0 in /home/asiskarp/.local/lib/python3.8/site-packages (from ipython->jupyter-dash) (2.11.2)\n",
            "Requirement already satisfied, skipping upgrade: setuptools>=18.5 in /home/asiskarp/.local/lib/python3.8/site-packages (from ipython->jupyter-dash) (60.9.3)\n",
            "Requirement already satisfied, skipping upgrade: stack-data in /home/asiskarp/.local/lib/python3.8/site-packages (from ipython->jupyter-dash) (0.2.0)\n",
            "Requirement already satisfied, skipping upgrade: traitlets>=5 in /home/asiskarp/.local/lib/python3.8/site-packages (from ipython->jupyter-dash) (5.1.1)\n",
            "Requirement already satisfied, skipping upgrade: pexpect>4.3; sys_platform != \"win32\" in /home/asiskarp/.local/lib/python3.8/site-packages (from ipython->jupyter-dash) (4.8.0)\n",
            "Requirement already satisfied, skipping upgrade: debugpy<2.0,>=1.0.0 in /home/asiskarp/.local/lib/python3.8/site-packages (from ipykernel->jupyter-dash) (1.5.1)\n",
            "Requirement already satisfied, skipping upgrade: jupyter-client<8.0 in /home/asiskarp/.local/lib/python3.8/site-packages (from ipykernel->jupyter-dash) (7.1.2)\n",
            "Requirement already satisfied, skipping upgrade: tornado<7.0,>=4.2 in /home/asiskarp/.local/lib/python3.8/site-packages (from ipykernel->jupyter-dash) (6.1)\n",
            "Requirement already satisfied, skipping upgrade: MarkupSafe>=2.0 in /home/asiskarp/.local/lib/python3.8/site-packages (from Jinja2>=3.0->Flask>=1.0.4->dash) (2.1.0)\n",
            "Requirement already satisfied, skipping upgrade: parso<0.9.0,>=0.8.0 in /home/asiskarp/.local/lib/python3.8/site-packages (from jedi>=0.16->ipython->jupyter-dash) (0.8.3)\n",
            "Requirement already satisfied, skipping upgrade: wcwidth in /home/asiskarp/.local/lib/python3.8/site-packages (from prompt-toolkit!=3.0.0,!=3.0.1,<3.1.0,>=2.0.0->ipython->jupyter-dash) (0.2.5)\n",
            "Requirement already satisfied, skipping upgrade: executing in /home/asiskarp/.local/lib/python3.8/site-packages (from stack-data->ipython->jupyter-dash) (0.8.3)\n",
            "Requirement already satisfied, skipping upgrade: asttokens in /home/asiskarp/.local/lib/python3.8/site-packages (from stack-data->ipython->jupyter-dash) (2.0.5)\n",
            "Requirement already satisfied, skipping upgrade: pure-eval in /home/asiskarp/.local/lib/python3.8/site-packages (from stack-data->ipython->jupyter-dash) (0.2.2)\n",
            "Requirement already satisfied, skipping upgrade: ptyprocess>=0.5 in /home/asiskarp/.local/lib/python3.8/site-packages (from pexpect>4.3; sys_platform != \"win32\"->ipython->jupyter-dash) (0.7.0)\n",
            "Requirement already satisfied, skipping upgrade: entrypoints in /home/asiskarp/.local/lib/python3.8/site-packages (from jupyter-client<8.0->ipykernel->jupyter-dash) (0.4)\n",
            "Requirement already satisfied, skipping upgrade: jupyter-core>=4.6.0 in /home/asiskarp/.local/lib/python3.8/site-packages (from jupyter-client<8.0->ipykernel->jupyter-dash) (4.9.2)\n",
            "Requirement already satisfied, skipping upgrade: python-dateutil>=2.1 in /home/asiskarp/.local/lib/python3.8/site-packages (from jupyter-client<8.0->ipykernel->jupyter-dash) (2.8.2)\n",
            "Requirement already satisfied, skipping upgrade: pyzmq>=13 in /home/asiskarp/.local/lib/python3.8/site-packages (from jupyter-client<8.0->ipykernel->jupyter-dash) (22.3.0)\n"
          ]
        }
      ],
      "source": [
        "!pip install -U dash jupyter-dash"
      ]
    },
    {
      "cell_type": "code",
      "execution_count": 2,
      "metadata": {
        "id": "9vwghilrXnsg"
      },
      "outputs": [],
      "source": [
        "!wget -o 'small_molecule_drugbanl.csv' 'https://raw.githubusercontent.com/plotly/dash-sample-apps/main/apps/dash-drug-discovery/data/small_molecule_drugbank.csv'"
      ]
    },
    {
      "cell_type": "code",
      "execution_count": 3,
      "metadata": {
        "colab": {
          "base_uri": "https://localhost:8080/",
          "height": 671
        },
        "id": "o9-G8EYeXd4d",
        "outputId": "cac55574-32bc-4abe-ca86-60654cc92c28"
      },
      "outputs": [
        {
          "data": {
            "text/html": [
              "\n",
              "        <iframe\n",
              "            width=\"100%\"\n",
              "            height=\"650\"\n",
              "            src=\"http://127.0.0.1:8050/\"\n",
              "            frameborder=\"0\"\n",
              "            allowfullscreen\n",
              "            \n",
              "        ></iframe>\n",
              "        "
            ],
            "text/plain": [
              "<IPython.lib.display.IFrame at 0x7f21f426cfd0>"
            ]
          },
          "metadata": {},
          "output_type": "display_data"
        }
      ],
      "source": [
        "from jupyter_dash import JupyterDash\n",
        "from dash import dcc, html, Input, Output, no_update\n",
        "import plotly.graph_objects as go\n",
        "import pandas as pd\n",
        "\n",
        "# Small molcule drugbank dataset\n",
        "data_path = 'small_molecule_drugbank.csv'\n",
        "\n",
        "df = pd.read_csv(data_path, header=0, index_col=0)\n",
        "\n",
        "fig = go.Figure(data=[\n",
        "    go.Scatter(\n",
        "        x=df[\"LOGP\"],\n",
        "        y=df[\"PKA\"],\n",
        "        mode=\"markers\",\n",
        "        marker=dict(\n",
        "            colorscale='viridis',\n",
        "            color=df[\"MW\"],\n",
        "            size=df[\"MW\"],\n",
        "            colorbar={\"title\": \"Molecular<br>Weight\"},\n",
        "            line={\"color\": \"#444\"},\n",
        "            reversescale=True,\n",
        "            sizeref=45,\n",
        "            sizemode=\"diameter\",\n",
        "            opacity=0.8,\n",
        "        )\n",
        "    )\n",
        "])\n",
        "\n",
        "# turn off native plotly.js hover effects - make sure to use\n",
        "# hoverinfo=\"none\" rather than \"skip\" which also halts events.\n",
        "fig.update_traces(hoverinfo=\"none\", hovertemplate=None)\n",
        "\n",
        "fig.update_layout(\n",
        "    xaxis=dict(title='Log P'),\n",
        "    yaxis=dict(title='pkA'),\n",
        "    plot_bgcolor='rgba(255,255,255,0.1)'\n",
        ")\n",
        "\n",
        "app = JupyterDash(__name__)\n",
        "\n",
        "app.layout = html.Div([\n",
        "    dcc.Graph(id=\"graph\", figure=fig, clear_on_unhover=True),\n",
        "    dcc.Tooltip(id=\"graph-tooltip\"),\n",
        "])\n",
        "\n",
        "\n",
        "@app.callback(\n",
        "    Output(\"graph-tooltip\", \"show\"),\n",
        "    Output(\"graph-tooltip\", \"bbox\"),\n",
        "    Output(\"graph-tooltip\", \"children\"),\n",
        "    Input(\"graph\", \"hoverData\"),\n",
        ")\n",
        "def display_hover(hoverData):\n",
        "    if hoverData is None:\n",
        "        return False, no_update, no_update\n",
        "\n",
        "    # demo only shows the first point, but other points may also be available\n",
        "    pt = hoverData[\"points\"][0]\n",
        "    bbox = pt[\"bbox\"]\n",
        "    num = pt[\"pointNumber\"]\n",
        "\n",
        "    df_row = df.iloc[num]\n",
        "    img_src = df_row['IMG_URL']\n",
        "    name = df_row['NAME']\n",
        "    form = df_row['FORM']\n",
        "    desc = df_row['DESC']\n",
        "    if len(desc) > 300: desc = desc[:100] + '...'\n",
        "\n",
        "    children = [\n",
        "        html.Div(children=[\n",
        "            html.Img(src=img_src, style={\"width\": \"100%\"}),\n",
        "            html.H2(f\"{name}\", style={\"color\": \"darkblue\"}),\n",
        "            html.P(f\"{form}\"),\n",
        "            html.P(f\"{desc}\"),\n",
        "        ],\n",
        "        style={'width': '200px', 'white-space': 'normal'})\n",
        "    ]\n",
        "\n",
        "    return True, bbox, children\n",
        "\n",
        "\n",
        "if __name__ == \"__main__\":\n",
        "    app.run_server(debug=True, mode='inline')\n"
      ]
    }
  ],
  "metadata": {
    "colab": {
      "collapsed_sections": [],
      "provenance": []
    },
    "kernelspec": {
      "display_name": "Python 3.10.4 64-bit",
      "language": "python",
      "name": "python3"
    },
    "language_info": {
      "codemirror_mode": {
        "name": "ipython",
        "version": 3
      },
      "file_extension": ".py",
      "mimetype": "text/x-python",
      "name": "python",
      "nbconvert_exporter": "python",
      "pygments_lexer": "ipython3",
      "version": "3.8.10"
    },
    "vscode": {
      "interpreter": {
        "hash": "916dbcbb3f70747c44a77c7bcd40155683ae19c65e1c03b4aa3499c5328201f1"
      }
    }
  },
  "nbformat": 4,
  "nbformat_minor": 0
}

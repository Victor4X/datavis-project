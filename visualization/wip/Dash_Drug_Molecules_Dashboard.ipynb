{
  "cells": [
    {
      "cell_type": "code",
      "execution_count": 1,
      "metadata": {
        "colab": {
          "base_uri": "https://localhost:8080/"
        },
        "id": "ZdiI7rm7X6Tl",
        "outputId": "3393bef7-40e9-4800-8318-253ae29b5ba2"
      },
      "outputs": [
        {
          "name": "stdout",
          "output_type": "stream",
          "text": [
            "Defaulting to user installation because normal site-packages is not writeable\n",
            "Collecting dash\n",
            "  Downloading dash-2.6.2-py3-none-any.whl (9.8 MB)\n",
            "\u001b[2K     \u001b[90m━━━━━━━━━━━━━━━━━━━━━━━━━━━━━━━━━━━━━━━━\u001b[0m \u001b[32m9.8/9.8 MB\u001b[0m \u001b[31m18.5 MB/s\u001b[0m eta \u001b[36m0:00:00\u001b[0m00:01\u001b[0m00:01\u001b[0m\n",
            "\u001b[?25hCollecting jupyter-dash\n",
            "  Downloading jupyter_dash-0.4.2-py3-none-any.whl (23 kB)\n",
            "Requirement already satisfied: plotly>=5.0.0 in /home/anders/.local/lib/python3.10/site-packages (from dash) (5.10.0)\n",
            "Collecting flask-compress\n",
            "  Downloading Flask_Compress-1.13-py3-none-any.whl (7.9 kB)\n",
            "Collecting dash-table==5.0.0\n",
            "  Downloading dash_table-5.0.0-py3-none-any.whl (3.9 kB)\n",
            "Collecting Flask>=1.0.4\n",
            "  Downloading Flask-2.2.2-py3-none-any.whl (101 kB)\n",
            "\u001b[2K     \u001b[90m━━━━━━━━━━━━━━━━━━━━━━━━━━━━━━━━━━━━━━\u001b[0m \u001b[32m101.5/101.5 KB\u001b[0m \u001b[31m25.2 MB/s\u001b[0m eta \u001b[36m0:00:00\u001b[0m\n",
            "\u001b[?25hCollecting dash-html-components==2.0.0\n",
            "  Downloading dash_html_components-2.0.0-py3-none-any.whl (4.1 kB)\n",
            "Collecting dash-core-components==2.0.0\n",
            "  Downloading dash_core_components-2.0.0-py3-none-any.whl (3.8 kB)\n",
            "Collecting ansi2html\n",
            "  Downloading ansi2html-1.8.0-py3-none-any.whl (16 kB)\n",
            "Requirement already satisfied: requests in /usr/lib/python3/dist-packages (from jupyter-dash) (2.25.1)\n",
            "Requirement already satisfied: ipykernel in /home/anders/.local/lib/python3.10/site-packages (from jupyter-dash) (6.15.3)\n",
            "Requirement already satisfied: nest-asyncio in /home/anders/.local/lib/python3.10/site-packages (from jupyter-dash) (1.5.5)\n",
            "Requirement already satisfied: ipython in /home/anders/.local/lib/python3.10/site-packages (from jupyter-dash) (8.5.0)\n",
            "Collecting retrying\n",
            "  Downloading retrying-1.3.3.tar.gz (10 kB)\n",
            "  Preparing metadata (setup.py) ... \u001b[?25ldone\n",
            "\u001b[?25hRequirement already satisfied: click>=8.0 in /usr/lib/python3/dist-packages (from Flask>=1.0.4->dash) (8.0.3)\n",
            "Collecting itsdangerous>=2.0\n",
            "  Downloading itsdangerous-2.1.2-py3-none-any.whl (15 kB)\n",
            "Requirement already satisfied: Jinja2>=3.0 in /home/anders/.local/lib/python3.10/site-packages (from Flask>=1.0.4->dash) (3.1.2)\n",
            "Collecting Werkzeug>=2.2.2\n",
            "  Downloading Werkzeug-2.2.2-py3-none-any.whl (232 kB)\n",
            "\u001b[2K     \u001b[90m━━━━━━━━━━━━━━━━━━━━━━━━━━━━━━━━━━━━━━\u001b[0m \u001b[32m232.7/232.7 KB\u001b[0m \u001b[31m27.8 MB/s\u001b[0m eta \u001b[36m0:00:00\u001b[0m\n",
            "\u001b[?25hRequirement already satisfied: tenacity>=6.2.0 in /home/anders/.local/lib/python3.10/site-packages (from plotly>=5.0.0->dash) (8.1.0)\n",
            "Collecting brotli\n",
            "  Downloading Brotli-1.0.9-cp310-cp310-manylinux_2_5_x86_64.manylinux1_x86_64.manylinux_2_12_x86_64.manylinux2010_x86_64.whl (2.7 MB)\n",
            "\u001b[2K     \u001b[90m━━━━━━━━━━━━━━━━━━━━━━━━━━━━━━━━━━━━━━━━\u001b[0m \u001b[32m2.7/2.7 MB\u001b[0m \u001b[31m24.4 MB/s\u001b[0m eta \u001b[36m0:00:00\u001b[0m00:01\u001b[0m00:01\u001b[0m\n",
            "\u001b[?25hRequirement already satisfied: matplotlib-inline>=0.1 in /home/anders/.local/lib/python3.10/site-packages (from ipykernel->jupyter-dash) (0.1.6)\n",
            "Requirement already satisfied: debugpy>=1.0 in /home/anders/.local/lib/python3.10/site-packages (from ipykernel->jupyter-dash) (1.6.3)\n",
            "Requirement already satisfied: jupyter-client>=6.1.12 in /home/anders/.local/lib/python3.10/site-packages (from ipykernel->jupyter-dash) (7.3.5)\n",
            "Requirement already satisfied: tornado>=6.1 in /home/anders/.local/lib/python3.10/site-packages (from ipykernel->jupyter-dash) (6.2)\n",
            "Requirement already satisfied: pyzmq>=17 in /home/anders/.local/lib/python3.10/site-packages (from ipykernel->jupyter-dash) (24.0.0)\n",
            "Requirement already satisfied: psutil in /home/anders/.local/lib/python3.10/site-packages (from ipykernel->jupyter-dash) (5.9.2)\n",
            "Requirement already satisfied: packaging in /home/anders/.local/lib/python3.10/site-packages (from ipykernel->jupyter-dash) (21.3)\n",
            "Requirement already satisfied: traitlets>=5.1.0 in /home/anders/.local/lib/python3.10/site-packages (from ipykernel->jupyter-dash) (5.4.0)\n",
            "Requirement already satisfied: stack-data in /home/anders/.local/lib/python3.10/site-packages (from ipython->jupyter-dash) (0.5.0)\n",
            "Requirement already satisfied: pickleshare in /home/anders/.local/lib/python3.10/site-packages (from ipython->jupyter-dash) (0.7.5)\n",
            "Requirement already satisfied: backcall in /home/anders/.local/lib/python3.10/site-packages (from ipython->jupyter-dash) (0.2.0)\n",
            "Requirement already satisfied: prompt-toolkit<3.1.0,>3.0.1 in /home/anders/.local/lib/python3.10/site-packages (from ipython->jupyter-dash) (3.0.31)\n",
            "Requirement already satisfied: pygments>=2.4.0 in /home/anders/.local/lib/python3.10/site-packages (from ipython->jupyter-dash) (2.13.0)\n",
            "Requirement already satisfied: pexpect>4.3 in /usr/lib/python3/dist-packages (from ipython->jupyter-dash) (4.8.0)\n",
            "Requirement already satisfied: decorator in /home/anders/.local/lib/python3.10/site-packages (from ipython->jupyter-dash) (5.1.1)\n",
            "Requirement already satisfied: jedi>=0.16 in /home/anders/.local/lib/python3.10/site-packages (from ipython->jupyter-dash) (0.18.1)\n",
            "Requirement already satisfied: six>=1.7.0 in /usr/lib/python3/dist-packages (from retrying->jupyter-dash) (1.16.0)\n",
            "Requirement already satisfied: parso<0.9.0,>=0.8.0 in /home/anders/.local/lib/python3.10/site-packages (from jedi>=0.16->ipython->jupyter-dash) (0.8.3)\n",
            "Requirement already satisfied: MarkupSafe>=2.0 in /home/anders/.local/lib/python3.10/site-packages (from Jinja2>=3.0->Flask>=1.0.4->dash) (2.1.1)\n",
            "Requirement already satisfied: entrypoints in /home/anders/.local/lib/python3.10/site-packages (from jupyter-client>=6.1.12->ipykernel->jupyter-dash) (0.4)\n",
            "Requirement already satisfied: jupyter-core>=4.9.2 in /home/anders/.local/lib/python3.10/site-packages (from jupyter-client>=6.1.12->ipykernel->jupyter-dash) (4.11.1)\n",
            "Requirement already satisfied: python-dateutil>=2.8.2 in /home/anders/.local/lib/python3.10/site-packages (from jupyter-client>=6.1.12->ipykernel->jupyter-dash) (2.8.2)\n",
            "Requirement already satisfied: wcwidth in /home/anders/.local/lib/python3.10/site-packages (from prompt-toolkit<3.1.0,>3.0.1->ipython->jupyter-dash) (0.2.5)\n",
            "Requirement already satisfied: pyparsing!=3.0.5,>=2.0.2 in /usr/lib/python3/dist-packages (from packaging->ipykernel->jupyter-dash) (2.4.7)\n",
            "Requirement already satisfied: executing in /home/anders/.local/lib/python3.10/site-packages (from stack-data->ipython->jupyter-dash) (1.0.0)\n",
            "Requirement already satisfied: pure-eval in /home/anders/.local/lib/python3.10/site-packages (from stack-data->ipython->jupyter-dash) (0.2.2)\n",
            "Requirement already satisfied: asttokens in /home/anders/.local/lib/python3.10/site-packages (from stack-data->ipython->jupyter-dash) (2.0.8)\n",
            "Building wheels for collected packages: retrying\n",
            "  Building wheel for retrying (setup.py) ... \u001b[?25ldone\n",
            "\u001b[?25h  Created wheel for retrying: filename=retrying-1.3.3-py3-none-any.whl size=11447 sha256=c574c6ae97e128ddeb1ca59226ea3907def8d5c29739b12f52a581d9ec8deaf5\n",
            "  Stored in directory: /home/anders/.cache/pip/wheels/21/0a/27/62f77273aa12fefb20b9b277f1e937f98ae16dbd04ffa2b93a\n",
            "Successfully built retrying\n",
            "Installing collected packages: dash-table, dash-html-components, dash-core-components, brotli, Werkzeug, retrying, itsdangerous, ansi2html, Flask, flask-compress, dash, jupyter-dash\n",
            "\u001b[33m  WARNING: The script ansi2html is installed in '/home/anders/.local/bin' which is not on PATH.\n",
            "  Consider adding this directory to PATH or, if you prefer to suppress this warning, use --no-warn-script-location.\u001b[0m\u001b[33m\n",
            "\u001b[0m\u001b[33m  WARNING: The script flask is installed in '/home/anders/.local/bin' which is not on PATH.\n",
            "  Consider adding this directory to PATH or, if you prefer to suppress this warning, use --no-warn-script-location.\u001b[0m\u001b[33m\n",
            "\u001b[0m\u001b[33m  WARNING: The scripts dash-generate-components, dash-update-components and renderer are installed in '/home/anders/.local/bin' which is not on PATH.\n",
            "  Consider adding this directory to PATH or, if you prefer to suppress this warning, use --no-warn-script-location.\u001b[0m\u001b[33m\n",
            "\u001b[0mSuccessfully installed Flask-2.2.2 Werkzeug-2.2.2 ansi2html-1.8.0 brotli-1.0.9 dash-2.6.2 dash-core-components-2.0.0 dash-html-components-2.0.0 dash-table-5.0.0 flask-compress-1.13 itsdangerous-2.1.2 jupyter-dash-0.4.2 retrying-1.3.3\n"
          ]
        }
      ],
      "source": [
        "!pip install -U dash jupyter-dash"
      ]
    },
    {
      "cell_type": "code",
      "execution_count": 2,
      "metadata": {
        "id": "9vwghilrXnsg"
      },
      "outputs": [],
      "source": [
        "!wget -o 'small_molecule_drugbanl.csv' 'https://raw.githubusercontent.com/plotly/dash-sample-apps/main/apps/dash-drug-discovery/data/small_molecule_drugbank.csv'"
      ]
    },
    {
      "cell_type": "code",
      "execution_count": 3,
      "metadata": {
        "colab": {
          "base_uri": "https://localhost:8080/",
          "height": 671
        },
        "id": "o9-G8EYeXd4d",
        "outputId": "cac55574-32bc-4abe-ca86-60654cc92c28"
      },
      "outputs": [
        {
          "name": "stderr",
          "output_type": "stream",
          "text": [
            "/usr/lib/python3/dist-packages/pkg_resources/__init__.py:116: PkgResourcesDeprecationWarning: 1.1build1 is an invalid version and will not be supported in a future release\n",
            "  warnings.warn(\n",
            "/usr/lib/python3/dist-packages/pkg_resources/__init__.py:116: PkgResourcesDeprecationWarning: 0.1.43ubuntu1 is an invalid version and will not be supported in a future release\n",
            "  warnings.warn(\n"
          ]
        },
        {
          "data": {
            "text/html": [
              "\n",
              "        <iframe\n",
              "            width=\"100%\"\n",
              "            height=\"650\"\n",
              "            src=\"http://127.0.0.1:8050/\"\n",
              "            frameborder=\"0\"\n",
              "            allowfullscreen\n",
              "            \n",
              "        ></iframe>\n",
              "        "
            ],
            "text/plain": [
              "<IPython.lib.display.IFrame at 0x7fba6aaf5690>"
            ]
          },
          "metadata": {},
          "output_type": "display_data"
        }
      ],
      "source": [
        "from jupyter_dash import JupyterDash\n",
        "from dash import dcc, html, Input, Output, no_update\n",
        "import plotly.graph_objects as go\n",
        "import pandas as pd\n",
        "\n",
        "# Small molcule drugbank dataset\n",
        "data_path = 'small_molecule_drugbank.csv'\n",
        "\n",
        "df = pd.read_csv(data_path, header=0, index_col=0)\n",
        "\n",
        "fig = go.Figure(data=[\n",
        "    go.Scatter(\n",
        "        x=df[\"LOGP\"],\n",
        "        y=df[\"PKA\"],\n",
        "        mode=\"markers\",\n",
        "        marker=dict(\n",
        "            colorscale='viridis',\n",
        "            color=df[\"MW\"],\n",
        "            size=df[\"MW\"],\n",
        "            colorbar={\"title\": \"Molecular<br>Weight\"},\n",
        "            line={\"color\": \"#444\"},\n",
        "            reversescale=True,\n",
        "            sizeref=45,\n",
        "            sizemode=\"diameter\",\n",
        "            opacity=0.8,\n",
        "        )\n",
        "    )\n",
        "])\n",
        "\n",
        "# turn off native plotly.js hover effects - make sure to use\n",
        "# hoverinfo=\"none\" rather than \"skip\" which also halts events.\n",
        "fig.update_traces(hoverinfo=\"none\", hovertemplate=None)\n",
        "\n",
        "fig.update_layout(\n",
        "    xaxis=dict(title='Log P'),\n",
        "    yaxis=dict(title='pkA'),\n",
        "    plot_bgcolor='rgba(255,255,255,0.1)'\n",
        ")\n",
        "\n",
        "app = JupyterDash(__name__)\n",
        "\n",
        "app.layout = html.Div([\n",
        "    dcc.Graph(id=\"graph\", figure=fig, clear_on_unhover=True),\n",
        "    dcc.Tooltip(id=\"graph-tooltip\"),\n",
        "])\n",
        "\n",
        "\n",
        "@app.callback(\n",
        "    Output(\"graph-tooltip\", \"show\"),\n",
        "    Output(\"graph-tooltip\", \"bbox\"),\n",
        "    Output(\"graph-tooltip\", \"children\"),\n",
        "    Input(\"graph\", \"hoverData\"),\n",
        ")\n",
        "def display_hover(hoverData):\n",
        "    if hoverData is None:\n",
        "        return False, no_update, no_update\n",
        "\n",
        "    # demo only shows the first point, but other points may also be available\n",
        "    pt = hoverData[\"points\"][0]\n",
        "    bbox = pt[\"bbox\"]\n",
        "    num = pt[\"pointNumber\"]\n",
        "\n",
        "    df_row = df.iloc[num]\n",
        "    img_src = df_row['IMG_URL']\n",
        "    name = df_row['NAME']\n",
        "    form = df_row['FORM']\n",
        "    desc = df_row['DESC']\n",
        "    if len(desc) > 300: desc = desc[:100] + '...'\n",
        "\n",
        "    children = [\n",
        "        html.Div(children=[\n",
        "            html.Img(src=img_src, style={\"width\": \"100%\"}),\n",
        "            html.H2(f\"{name}\", style={\"color\": \"darkblue\"}),\n",
        "            html.P(f\"{form}\"),\n",
        "            html.P(f\"{desc}\"),\n",
        "        ],\n",
        "        style={'width': '200px', 'white-space': 'normal'})\n",
        "    ]\n",
        "\n",
        "    return True, bbox, children\n",
        "\n",
        "\n",
        "if __name__ == \"__main__\":\n",
        "    app.run_server(debug=True, mode='inline')\n"
      ]
    }
  ],
  "metadata": {
    "colab": {
      "collapsed_sections": [],
      "provenance": []
    },
    "kernelspec": {
      "display_name": "Python 3.10.4 64-bit",
      "language": "python",
      "name": "python3"
    },
    "language_info": {
      "codemirror_mode": {
        "name": "ipython",
        "version": 3
      },
      "file_extension": ".py",
      "mimetype": "text/x-python",
      "name": "python",
      "nbconvert_exporter": "python",
      "pygments_lexer": "ipython3",
      "version": "3.10.6"
    },
    "vscode": {
      "interpreter": {
        "hash": "916dbcbb3f70747c44a77c7bcd40155683ae19c65e1c03b4aa3499c5328201f1"
      }
    }
  },
  "nbformat": 4,
  "nbformat_minor": 0
}
